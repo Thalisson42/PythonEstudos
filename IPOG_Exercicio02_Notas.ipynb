{
  "nbformat": 4,
  "nbformat_minor": 0,
  "metadata": {
    "colab": {
      "provenance": [],
      "include_colab_link": true
    },
    "kernelspec": {
      "name": "python3",
      "display_name": "Python 3"
    },
    "language_info": {
      "name": "python"
    }
  },
  "cells": [
    {
      "cell_type": "markdown",
      "metadata": {
        "id": "view-in-github",
        "colab_type": "text"
      },
      "source": [
        "<a href=\"https://colab.research.google.com/github/Thalisson42/PythonEstudos/blob/main/IPOG_Exercicio02_Notas.ipynb\" target=\"_parent\"><img src=\"https://colab.research.google.com/assets/colab-badge.svg\" alt=\"Open In Colab\"/></a>"
      ]
    },
    {
      "cell_type": "code",
      "metadata": {
        "id": "aXsqCAAlexWk"
      },
      "source": [
        "alunos =  [ \"A\", \"B\", \"C\", \"D\", \"E\", \"F\", \"G\", \"H\", \"I\", \"J\" ]"
      ],
      "execution_count": null,
      "outputs": []
    },
    {
      "cell_type": "code",
      "metadata": {
        "id": "vsz-Ex8ufZRt",
        "colab": {
          "base_uri": "https://localhost:8080/"
        },
        "outputId": "a8922fa5-d13b-4c96-a422-f0f2c7598b4d"
      },
      "source": [
        "print(alunos)"
      ],
      "execution_count": null,
      "outputs": [
        {
          "output_type": "stream",
          "name": "stdout",
          "text": [
            "['A', 'B', 'C', 'D', 'E', 'F', 'G', 'H', 'I', 'J']\n"
          ]
        }
      ]
    },
    {
      "cell_type": "code",
      "metadata": {
        "id": "Ty6_D_r7fbHd",
        "colab": {
          "base_uri": "https://localhost:8080/"
        },
        "outputId": "ba6cf4d2-1bc1-4ed5-cbd8-bf4567650137"
      },
      "source": [
        "len(alunos)"
      ],
      "execution_count": null,
      "outputs": [
        {
          "output_type": "execute_result",
          "data": {
            "text/plain": [
              "10"
            ]
          },
          "metadata": {},
          "execution_count": 3
        }
      ]
    },
    {
      "cell_type": "code",
      "metadata": {
        "id": "9GeHUO6Sfgrd"
      },
      "source": [
        "notas = [ 6, 9, 9.3, 8, 7, 10, 9, 10, 9.6, 8.4 ]"
      ],
      "execution_count": null,
      "outputs": []
    },
    {
      "cell_type": "code",
      "metadata": {
        "id": "TkTGgtqWfmW0",
        "colab": {
          "base_uri": "https://localhost:8080/"
        },
        "outputId": "75f8750a-10f4-4511-8d35-73d74a46a14e"
      },
      "source": [
        "len(notas)"
      ],
      "execution_count": null,
      "outputs": [
        {
          "output_type": "execute_result",
          "data": {
            "text/plain": [
              "10"
            ]
          },
          "metadata": {},
          "execution_count": 5
        }
      ]
    },
    {
      "cell_type": "code",
      "metadata": {
        "id": "aMPJPnU0fu5c",
        "colab": {
          "base_uri": "https://localhost:8080/"
        },
        "outputId": "1b11747f-93ea-49f9-a990-f9ba1e511bbc"
      },
      "source": [
        "soma_notas = 0\n",
        "for nota in notas:\n",
        "    # print(nota)\n",
        "    soma_notas += nota\n",
        "    # print(\"Soma parcial = \", soma_notas)\n",
        "print(\"Soma final = \", soma_notas)"
      ],
      "execution_count": null,
      "outputs": [
        {
          "output_type": "stream",
          "name": "stdout",
          "text": [
            "Soma final =  86.3\n"
          ]
        }
      ]
    },
    {
      "cell_type": "code",
      "source": [
        "soma_notas = 0\n",
        "nota = 0\n",
        "while nota != len(notas):\n",
        "  print(notas[nota])\n",
        "  soma_notas = soma_notas + notas[nota]\n",
        "  nota = nota + 1\n",
        "print(\"Soma final = \", soma_notas)"
      ],
      "metadata": {
        "id": "HdnWFld_mC7I",
        "colab": {
          "base_uri": "https://localhost:8080/"
        },
        "outputId": "2f667454-6a00-4e6f-fc76-5f1904b286b9"
      },
      "execution_count": null,
      "outputs": [
        {
          "output_type": "stream",
          "name": "stdout",
          "text": [
            "6\n",
            "9\n",
            "9.3\n",
            "8\n",
            "7\n",
            "10\n",
            "9\n",
            "10\n",
            "9.6\n",
            "8.4\n",
            "Soma final =  86.3\n"
          ]
        }
      ]
    },
    {
      "cell_type": "code",
      "source": [
        "media_notas = soma_notas / len(notas)"
      ],
      "metadata": {
        "id": "ocQVoE_2jYIn"
      },
      "execution_count": null,
      "outputs": []
    },
    {
      "cell_type": "code",
      "metadata": {
        "id": "IsvNaUkPgBsN",
        "colab": {
          "base_uri": "https://localhost:8080/"
        },
        "outputId": "9fc42708-9fd3-41e8-fdef-4a1343b37be6"
      },
      "source": [
        "print(\"A média da nota dos alunos é %.2f\" %media_notas)"
      ],
      "execution_count": null,
      "outputs": [
        {
          "output_type": "stream",
          "name": "stdout",
          "text": [
            "A média da nota dos alunos é 8.63\n"
          ]
        }
      ]
    },
    {
      "cell_type": "code",
      "source": [
        "maior_nota = -1\n",
        "for nota in notas:\n",
        "    if maior_nota < nota: # - 1 < 6 --- retorna true\n",
        "        maior_nota = nota\n",
        "print(\"A maior nota é: %.2f\" %maior_nota)"
      ],
      "metadata": {
        "id": "nCt_TdiUn0y_",
        "colab": {
          "base_uri": "https://localhost:8080/"
        },
        "outputId": "bb8a6687-8566-4bae-afa4-f02e009ff4db"
      },
      "execution_count": null,
      "outputs": [
        {
          "output_type": "stream",
          "name": "stdout",
          "text": [
            "A maior nota é: 10.00\n"
          ]
        }
      ]
    },
    {
      "cell_type": "code",
      "metadata": {
        "id": "Sdf-J3fugjyD",
        "colab": {
          "base_uri": "https://localhost:8080/"
        },
        "outputId": "4827c5a3-e53a-4b13-fdd1-0c3bfc322a97"
      },
      "source": [
        "print(\"O(s) aluno(s) com a maior nota:\")\n",
        "i = 0\n",
        "for nota in notas:\n",
        "    if maior_nota == nota:\n",
        "        print(\" - \" + alunos[i])\n",
        "    i += 1"
      ],
      "execution_count": null,
      "outputs": [
        {
          "output_type": "stream",
          "name": "stdout",
          "text": [
            "O(s) aluno(s) com a maior nota:\n",
            " - F\n",
            " - H\n"
          ]
        }
      ]
    },
    {
      "cell_type": "code",
      "metadata": {
        "id": "vUHekGQCh5t6",
        "colab": {
          "base_uri": "https://localhost:8080/"
        },
        "outputId": "053c51be-4bd1-4f5d-d238-0b813ccf3002"
      },
      "source": [
        "aprovados = []\n",
        "reprovados = []\n",
        "\n",
        "i = 0\n",
        "for nota in notas:\n",
        "    if nota >= 7:\n",
        "        aprovados += [alunos[i]]\n",
        "    else:\n",
        "        reprovados += [alunos[i]]\n",
        "    i += 1\n",
        "\n",
        "print(\"Os alunos aprovados foram:\")\n",
        "for aluno in aprovados:\n",
        "    print(\" - \" + aluno)\n",
        "\n",
        "print(\"Os alunos reprovados foram:\")\n",
        "for aluno in reprovados:\n",
        "    print(\" - \" + aluno)"
      ],
      "execution_count": null,
      "outputs": [
        {
          "output_type": "stream",
          "name": "stdout",
          "text": [
            "Os alunos aprovados foram:\n",
            " - B\n",
            " - C\n",
            " - D\n",
            " - E\n",
            " - F\n",
            " - G\n",
            " - H\n",
            " - I\n",
            " - J\n",
            "Os alunos reprovados foram:\n",
            " - A\n"
          ]
        }
      ]
    }
  ]
}