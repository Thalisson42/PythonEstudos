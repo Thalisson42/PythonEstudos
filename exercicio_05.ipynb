{
  "nbformat": 4,
  "nbformat_minor": 0,
  "metadata": {
    "colab": {
      "provenance": [],
      "include_colab_link": true
    },
    "kernelspec": {
      "name": "python3",
      "display_name": "Python 3"
    },
    "language_info": {
      "name": "python"
    }
  },
  "cells": [
    {
      "cell_type": "markdown",
      "metadata": {
        "id": "view-in-github",
        "colab_type": "text"
      },
      "source": [
        "<a href=\"https://colab.research.google.com/github/Thalisson42/PythonEstudos/blob/main/exercicio_05.ipynb\" target=\"_parent\"><img src=\"https://colab.research.google.com/assets/colab-badge.svg\" alt=\"Open In Colab\"/></a>"
      ]
    },
    {
      "cell_type": "code",
      "execution_count": 1,
      "metadata": {
        "id": "yOFZcZALGzXH"
      },
      "outputs": [],
      "source": [
        "# Criando o arquivo de entrada\n",
        "! echo \"200.135.80.9\" >> entrada_ips.txt\n",
        "! echo \"192.168.1.1\" >> entrada_ips.txt\n",
        "! echo \"8.35.67.74\" >> entrada_ips.txt\n",
        "! echo \"257.32.4.5\" >> entrada_ips.txt\n",
        "! echo \"85.345.1.2\" >> entrada_ips.txt\n",
        "! echo \"1.2.3.4\" >> entrada_ips.txt\n",
        "! echo \"9.8.234.5\" >> entrada_ips.txt\n",
        "! echo \"192.168.0.256\" >> entrada_ips.txt"
      ]
    },
    {
      "cell_type": "code",
      "source": [
        "# variaveis de arquivo\n",
        "lista_de_ips = \"entrada_ips.txt\"\n",
        "validos = \"validos.txt\"\n",
        "invalidos = \"invalidos.txt\""
      ],
      "metadata": {
        "id": "_jhpL-64HHOc"
      },
      "execution_count": 2,
      "outputs": []
    },
    {
      "cell_type": "code",
      "source": [
        "# funcao para abrir aquivo\n",
        "def fopen(arq, option = 'a'):\n",
        "  return open(arq, option)"
      ],
      "metadata": {
        "id": "VNPv2mkoINJy"
      },
      "execution_count": 3,
      "outputs": []
    },
    {
      "cell_type": "code",
      "source": [
        "# funcao para escrever um arquivo\n",
        "def fwrite(filename, line):\n",
        "  arq = fopen(filename)\n",
        "  arq.write(line + '\\n')"
      ],
      "metadata": {
        "id": "cvZbzc8AIS9v"
      },
      "execution_count": 4,
      "outputs": []
    },
    {
      "cell_type": "code",
      "source": [
        "# funcao para ler linhas do arquivo informado\n",
        "def freadlines(filename):\n",
        "  arq = fopen(filename, 'r')\n",
        "  return arq.readlines()"
      ],
      "metadata": {
        "id": "CzVAXFmCIb5R"
      },
      "execution_count": 5,
      "outputs": []
    },
    {
      "cell_type": "code",
      "source": [
        "# funcao que valida o IP informado\n",
        "import socket\n",
        "def validaIP(addr):\n",
        "  try:\n",
        "    socket.inet_aton(addr)\n",
        "    return True\n",
        "  except:\n",
        "    return False"
      ],
      "metadata": {
        "id": "SmRQuZ8wIisE"
      },
      "execution_count": 6,
      "outputs": []
    },
    {
      "cell_type": "code",
      "source": [
        "# Problema proposto:\n",
        "# Ler o arquivo de entradas e separar em arquivos distintos os IPs validos e invalidos\n",
        "ips = freadlines(lista_de_ips)\n",
        "for ip in ips:\n",
        "  # para cada IP na lista de IPS, remove caracteres especiais...\n",
        "  ipp_add = ip.rstrip()\n",
        "  # e verifica se é um ip valido\n",
        "  if validaIP(ipp_add):\n",
        "    # caso valido, escreve o arquivo de validos\n",
        "    fwrite(validos, ipp_add)\n",
        "  else:\n",
        "    # senao escreve o arquivo de invalidos\n",
        "    fwrite(invalidos, ipp_add)"
      ],
      "metadata": {
        "id": "CmBTairtHKr8"
      },
      "execution_count": 7,
      "outputs": []
    },
    {
      "cell_type": "code",
      "source": [
        "print('Lista de IPs Válidos:')\n",
        "for i,x in enumerate(freadlines(validos)):\n",
        "  print(i+1,\":\",x.rstrip())\n",
        "\n",
        "print('Lista de IPs Inválidos:')\n",
        "for i,x in enumerate(freadlines(invalidos)):\n",
        "  print(i+1,\": \",x.rstrip())"
      ],
      "metadata": {
        "colab": {
          "base_uri": "https://localhost:8080/"
        },
        "id": "QZKEl51iKWTr",
        "outputId": "6951b9eb-fd56-4f78-f3bc-53154a01ff15"
      },
      "execution_count": 8,
      "outputs": [
        {
          "output_type": "stream",
          "name": "stdout",
          "text": [
            "Lista de IPs Válidos:\n",
            "1 : 200.135.80.9\n",
            "2 : 192.168.1.1\n",
            "3 : 8.35.67.74\n",
            "4 : 1.2.3.4\n",
            "5 : 9.8.234.5\n",
            "Lista de IPs Inválidos:\n",
            "1 :  257.32.4.5\n",
            "2 :  85.345.1.2\n",
            "3 :  192.168.0.256\n"
          ]
        }
      ]
    }
  ]
}