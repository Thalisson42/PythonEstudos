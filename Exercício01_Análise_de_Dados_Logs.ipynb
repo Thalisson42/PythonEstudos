{
  "nbformat": 4,
  "nbformat_minor": 0,
  "metadata": {
    "colab": {
      "provenance": [],
      "include_colab_link": true
    },
    "kernelspec": {
      "name": "python3",
      "display_name": "Python 3"
    },
    "language_info": {
      "name": "python"
    }
  },
  "cells": [
    {
      "cell_type": "markdown",
      "metadata": {
        "id": "view-in-github",
        "colab_type": "text"
      },
      "source": [
        "<a href=\"https://colab.research.google.com/github/Thalisson42/PythonEstudos/blob/main/Exerc%C3%ADcio01_An%C3%A1lise_de_Dados_Logs.ipynb\" target=\"_parent\"><img src=\"https://colab.research.google.com/assets/colab-badge.svg\" alt=\"Open In Colab\"/></a>"
      ]
    },
    {
      "cell_type": "markdown",
      "source": [
        "Dados um conjunto de dados que possuem todas as requisições HTTP, no mês de julho, para o servidor da NASA Kennedy Space Center WWW na Flórida para um período específico, você fará uma análise de dados a seguir.\n",
        "\n",
        "Os conjuntos de dados representam logs que estão em arquivos ASCII com uma linha por requisição com as \n",
        "seguintes colunas:\n",
        "\n",
        "    • Host fazendo a requisição. Um hostname quando possível, caso contrário o endereço de internet se o nome não puder ser identificado.\n",
        "    • Timestamp no formato \"DIA/MÊS/ANO:HH:MM:SS TIMEZONE\"\n",
        "    • Requisição (entre aspas)\n",
        "    • Código do retorno HTTP\n",
        "    • Total de bytes retornados\n",
        "\n",
        "Exemplos de registro do arquivo:\n",
        "\n",
        " \n",
        "\n",
        "* 199.72.81.55 - - [01/Jul/1995:00:00:01 -0400] \"GET history/apollo/ HTTP/1.0\" 200 6245\n",
        "* unicomp6.unicomp.net - - [01/Jul/1995:00:00:06 -0400] \"GET /shuttle/countdown/ HTTP/1.0\" 200 3985\n",
        "* netport-27.iu.net - - [01/Jul/1995:00:10:19 -0400] \"GET /pub/winvn/readme.txt HTTP/1.0\" 404 -\n",
        "\n",
        "\n",
        "**Use Python com Pandas para descobrir as seguintes informações: **\n",
        "\n",
        "    • Número de hosts únicos.\n",
        "    • O total de erros 404.\n",
        "    • As 5 URLs que mais causaram erro 404.\n",
        "    • Quantidade de erros 404 por dia.\n",
        "    • O total de bytes retornados.\n",
        "\n"
      ],
      "metadata": {
        "id": "bHJ1RoRtJvue"
      }
    },
    {
      "cell_type": "code",
      "execution_count": null,
      "metadata": {
        "colab": {
          "base_uri": "https://localhost:8080/"
        },
        "id": "HF8GbIZgJk_O",
        "outputId": "3349fff3-06ac-41f7-e07f-77676ac7c104"
      },
      "outputs": [
        {
          "output_type": "stream",
          "name": "stdout",
          "text": [
            "fatal: destination path 'aulapython' already exists and is not an empty directory.\n"
          ]
        }
      ],
      "source": [
        "! git clone https://github.com/leonardoamorim/aulapython.git"
      ]
    },
    {
      "cell_type": "code",
      "source": [
        "! gunzip aulapython/NASA_access_log_Jul95.gz"
      ],
      "metadata": {
        "id": "aGd94_QMK9vx",
        "colab": {
          "base_uri": "https://localhost:8080/"
        },
        "outputId": "f92a1986-704a-416c-d2a3-4aa08e1871df"
      },
      "execution_count": null,
      "outputs": [
        {
          "output_type": "stream",
          "name": "stdout",
          "text": [
            "gzip: aulapython/NASA_access_log_Jul95.gz: No such file or directory\n"
          ]
        }
      ]
    },
    {
      "cell_type": "code",
      "source": [
        "! wc -l aulapython/NASA_access_log_Jul95"
      ],
      "metadata": {
        "colab": {
          "base_uri": "https://localhost:8080/"
        },
        "id": "BB35V_WJLBaL",
        "outputId": "712f7c64-c250-44a4-ab25-96079f669e9e"
      },
      "execution_count": null,
      "outputs": [
        {
          "output_type": "stream",
          "name": "stdout",
          "text": [
            "1891714 aulapython/NASA_access_log_Jul95\n"
          ]
        }
      ]
    },
    {
      "cell_type": "code",
      "source": [
        "! head -n 5000 aulapython/NASA_access_log_Jul95 > dataset_julho"
      ],
      "metadata": {
        "id": "t5X4ACURLGzJ"
      },
      "execution_count": null,
      "outputs": []
    },
    {
      "cell_type": "code",
      "source": [
        "! wc -l dataset_julho"
      ],
      "metadata": {
        "colab": {
          "base_uri": "https://localhost:8080/"
        },
        "id": "wuy4TANhLMQT",
        "outputId": "b2d3021d-d293-4a5b-a5a3-f7b9743bc69d"
      },
      "execution_count": null,
      "outputs": [
        {
          "output_type": "stream",
          "name": "stdout",
          "text": [
            "5000 dataset_julho\n"
          ]
        }
      ]
    },
    {
      "cell_type": "code",
      "source": [
        "! head dataset_julho"
      ],
      "metadata": {
        "colab": {
          "base_uri": "https://localhost:8080/"
        },
        "id": "9WfmRWWWLPhY",
        "outputId": "6b2dc9f0-6d80-4ddf-9d0a-d223c8409f2d"
      },
      "execution_count": null,
      "outputs": [
        {
          "output_type": "stream",
          "name": "stdout",
          "text": [
            "199.72.81.55 - - [01/Jul/1995:00:00:01 -0400] \"GET /history/apollo/ HTTP/1.0\" 200 6245\n",
            "unicomp6.unicomp.net - - [01/Jul/1995:00:00:06 -0400] \"GET /shuttle/countdown/ HTTP/1.0\" 200 3985\n",
            "199.120.110.21 - - [01/Jul/1995:00:00:09 -0400] \"GET /shuttle/missions/sts-73/mission-sts-73.html HTTP/1.0\" 200 4085\n",
            "burger.letters.com - - [01/Jul/1995:00:00:11 -0400] \"GET /shuttle/countdown/liftoff.html HTTP/1.0\" 304 0\n",
            "199.120.110.21 - - [01/Jul/1995:00:00:11 -0400] \"GET /shuttle/missions/sts-73/sts-73-patch-small.gif HTTP/1.0\" 200 4179\n",
            "burger.letters.com - - [01/Jul/1995:00:00:12 -0400] \"GET /images/NASA-logosmall.gif HTTP/1.0\" 304 0\n",
            "burger.letters.com - - [01/Jul/1995:00:00:12 -0400] \"GET /shuttle/countdown/video/livevideo.gif HTTP/1.0\" 200 0\n",
            "205.212.115.106 - - [01/Jul/1995:00:00:12 -0400] \"GET /shuttle/countdown/countdown.html HTTP/1.0\" 200 3985\n",
            "d104.aa.net - - [01/Jul/1995:00:00:13 -0400] \"GET /shuttle/countdown/ HTTP/1.0\" 200 3985\n",
            "129.94.144.152 - - [01/Jul/1995:00:00:13 -0400] \"GET / HTTP/1.0\" 200 7074\n"
          ]
        }
      ]
    },
    {
      "cell_type": "code",
      "source": [
        "# lendo o arquivo dataset\n",
        "ds = open('dataset_julho', 'r')\n",
        "ds"
      ],
      "metadata": {
        "id": "Wh3QDNntLX5_",
        "colab": {
          "base_uri": "https://localhost:8080/"
        },
        "outputId": "e085d433-3729-4a10-c931-f23d00213532"
      },
      "execution_count": null,
      "outputs": [
        {
          "output_type": "execute_result",
          "data": {
            "text/plain": [
              "<_io.TextIOWrapper name='dataset_julho' mode='r' encoding='UTF-8'>"
            ]
          },
          "metadata": {},
          "execution_count": 96
        }
      ]
    },
    {
      "cell_type": "code",
      "source": [
        "hosts = []\n",
        "dias = []\n",
        "urls = []\n",
        "http = []\n",
        "codes = []\n",
        "sizes = []\n",
        "# lendo as linhas do arquivo\n",
        "for linha in ds.readlines():\n",
        "  # pegando o host\n",
        "  host = linha.split(' ')[0]\n",
        "  hosts.append(host)\n",
        "  # pegando o dia\n",
        "  dia = linha.split(' ')[3].split(':')[0].strip('[')\n",
        "  dias.append(dia)\n",
        "  # pegando a URL\n",
        "  url = linha.split(' ')[6]\n",
        "  urls.append(url)\n",
        "  # pegando o codigo HTTP\n",
        "  code = linha.split(' ')[-2]\n",
        "  codes.append(code)\n",
        "  #pegando o tamanho da requisicao\n",
        "  size = linha.split(' ')[-1].strip()\n",
        "  sizes.append(size)\n",
        "  http.append(linha.split()[-2])"
      ],
      "metadata": {
        "id": "2r4vDRbRWwab"
      },
      "execution_count": null,
      "outputs": []
    },
    {
      "cell_type": "code",
      "source": [
        "import pandas as pd"
      ],
      "metadata": {
        "id": "AGU1EJhQZzhj"
      },
      "execution_count": null,
      "outputs": []
    },
    {
      "cell_type": "code",
      "source": [
        "df = pd.DataFrame({\n",
        "    'hosts':  hosts,\n",
        "    'http': http,\n",
        "    'dias': dias, \n",
        "    'urls': urls, \n",
        "    'codes': codes, \n",
        "    'sizes': sizes\n",
        "})"
      ],
      "metadata": {
        "id": "Wvc5eZTeZ1eF"
      },
      "execution_count": null,
      "outputs": []
    },
    {
      "cell_type": "code",
      "source": [
        "display(df)"
      ],
      "metadata": {
        "colab": {
          "base_uri": "https://localhost:8080/",
          "height": 502
        },
        "id": "W8rJMJvfZ-Ds",
        "outputId": "fa4f6d09-0a6d-44f4-ceba-189e62dc9cdf"
      },
      "execution_count": null,
      "outputs": [
        {
          "output_type": "display_data",
          "data": {
            "text/plain": [
              "                       hosts http         dias  \\\n",
              "0               199.72.81.55  200  01/Jul/1995   \n",
              "1       unicomp6.unicomp.net  200  01/Jul/1995   \n",
              "2             199.120.110.21  200  01/Jul/1995   \n",
              "3         burger.letters.com  304  01/Jul/1995   \n",
              "4             199.120.110.21  200  01/Jul/1995   \n",
              "...                      ...  ...          ...   \n",
              "4995     watermark.helix.net  200  01/Jul/1995   \n",
              "4996    bertppp1.cybernw.com  200  01/Jul/1995   \n",
              "4997        ppp160.iadfw.net  200  01/Jul/1995   \n",
              "4998    bertppp1.cybernw.com  200  01/Jul/1995   \n",
              "4999  freenet.edmonton.ab.ca  200  01/Jul/1995   \n",
              "\n",
              "                                                   urls codes  sizes  \n",
              "0                                      /history/apollo/   200   6245  \n",
              "1                                   /shuttle/countdown/   200   3985  \n",
              "2          /shuttle/missions/sts-73/mission-sts-73.html   200   4085  \n",
              "3                       /shuttle/countdown/liftoff.html   304      0  \n",
              "4       /shuttle/missions/sts-73/sts-73-patch-small.gif   200   4179  \n",
              "...                                                 ...   ...    ...  \n",
              "4995  /shuttle/missions/sts-71/images/KSC-95EC-0544.txt   200    979  \n",
              "4996                           /images/ksclogosmall.gif   200   3635  \n",
              "4997  /shuttle/missions/sts-71/images/KSC-95EC-0915.jpg   200  39654  \n",
              "4998          /history/apollo/images/footprint-logo.gif   200   4209  \n",
              "4999            /shuttle/countdown/video/livevideo.jpeg   200  45029  \n",
              "\n",
              "[5000 rows x 6 columns]"
            ],
            "text/html": [
              "\n",
              "  <div id=\"df-4aeacef1-471a-4e5d-9d8e-6fead57060aa\">\n",
              "    <div class=\"colab-df-container\">\n",
              "      <div>\n",
              "<style scoped>\n",
              "    .dataframe tbody tr th:only-of-type {\n",
              "        vertical-align: middle;\n",
              "    }\n",
              "\n",
              "    .dataframe tbody tr th {\n",
              "        vertical-align: top;\n",
              "    }\n",
              "\n",
              "    .dataframe thead th {\n",
              "        text-align: right;\n",
              "    }\n",
              "</style>\n",
              "<table border=\"1\" class=\"dataframe\">\n",
              "  <thead>\n",
              "    <tr style=\"text-align: right;\">\n",
              "      <th></th>\n",
              "      <th>hosts</th>\n",
              "      <th>http</th>\n",
              "      <th>dias</th>\n",
              "      <th>urls</th>\n",
              "      <th>codes</th>\n",
              "      <th>sizes</th>\n",
              "    </tr>\n",
              "  </thead>\n",
              "  <tbody>\n",
              "    <tr>\n",
              "      <th>0</th>\n",
              "      <td>199.72.81.55</td>\n",
              "      <td>200</td>\n",
              "      <td>01/Jul/1995</td>\n",
              "      <td>/history/apollo/</td>\n",
              "      <td>200</td>\n",
              "      <td>6245</td>\n",
              "    </tr>\n",
              "    <tr>\n",
              "      <th>1</th>\n",
              "      <td>unicomp6.unicomp.net</td>\n",
              "      <td>200</td>\n",
              "      <td>01/Jul/1995</td>\n",
              "      <td>/shuttle/countdown/</td>\n",
              "      <td>200</td>\n",
              "      <td>3985</td>\n",
              "    </tr>\n",
              "    <tr>\n",
              "      <th>2</th>\n",
              "      <td>199.120.110.21</td>\n",
              "      <td>200</td>\n",
              "      <td>01/Jul/1995</td>\n",
              "      <td>/shuttle/missions/sts-73/mission-sts-73.html</td>\n",
              "      <td>200</td>\n",
              "      <td>4085</td>\n",
              "    </tr>\n",
              "    <tr>\n",
              "      <th>3</th>\n",
              "      <td>burger.letters.com</td>\n",
              "      <td>304</td>\n",
              "      <td>01/Jul/1995</td>\n",
              "      <td>/shuttle/countdown/liftoff.html</td>\n",
              "      <td>304</td>\n",
              "      <td>0</td>\n",
              "    </tr>\n",
              "    <tr>\n",
              "      <th>4</th>\n",
              "      <td>199.120.110.21</td>\n",
              "      <td>200</td>\n",
              "      <td>01/Jul/1995</td>\n",
              "      <td>/shuttle/missions/sts-73/sts-73-patch-small.gif</td>\n",
              "      <td>200</td>\n",
              "      <td>4179</td>\n",
              "    </tr>\n",
              "    <tr>\n",
              "      <th>...</th>\n",
              "      <td>...</td>\n",
              "      <td>...</td>\n",
              "      <td>...</td>\n",
              "      <td>...</td>\n",
              "      <td>...</td>\n",
              "      <td>...</td>\n",
              "    </tr>\n",
              "    <tr>\n",
              "      <th>4995</th>\n",
              "      <td>watermark.helix.net</td>\n",
              "      <td>200</td>\n",
              "      <td>01/Jul/1995</td>\n",
              "      <td>/shuttle/missions/sts-71/images/KSC-95EC-0544.txt</td>\n",
              "      <td>200</td>\n",
              "      <td>979</td>\n",
              "    </tr>\n",
              "    <tr>\n",
              "      <th>4996</th>\n",
              "      <td>bertppp1.cybernw.com</td>\n",
              "      <td>200</td>\n",
              "      <td>01/Jul/1995</td>\n",
              "      <td>/images/ksclogosmall.gif</td>\n",
              "      <td>200</td>\n",
              "      <td>3635</td>\n",
              "    </tr>\n",
              "    <tr>\n",
              "      <th>4997</th>\n",
              "      <td>ppp160.iadfw.net</td>\n",
              "      <td>200</td>\n",
              "      <td>01/Jul/1995</td>\n",
              "      <td>/shuttle/missions/sts-71/images/KSC-95EC-0915.jpg</td>\n",
              "      <td>200</td>\n",
              "      <td>39654</td>\n",
              "    </tr>\n",
              "    <tr>\n",
              "      <th>4998</th>\n",
              "      <td>bertppp1.cybernw.com</td>\n",
              "      <td>200</td>\n",
              "      <td>01/Jul/1995</td>\n",
              "      <td>/history/apollo/images/footprint-logo.gif</td>\n",
              "      <td>200</td>\n",
              "      <td>4209</td>\n",
              "    </tr>\n",
              "    <tr>\n",
              "      <th>4999</th>\n",
              "      <td>freenet.edmonton.ab.ca</td>\n",
              "      <td>200</td>\n",
              "      <td>01/Jul/1995</td>\n",
              "      <td>/shuttle/countdown/video/livevideo.jpeg</td>\n",
              "      <td>200</td>\n",
              "      <td>45029</td>\n",
              "    </tr>\n",
              "  </tbody>\n",
              "</table>\n",
              "<p>5000 rows × 6 columns</p>\n",
              "</div>\n",
              "      <button class=\"colab-df-convert\" onclick=\"convertToInteractive('df-4aeacef1-471a-4e5d-9d8e-6fead57060aa')\"\n",
              "              title=\"Convert this dataframe to an interactive table.\"\n",
              "              style=\"display:none;\">\n",
              "        \n",
              "  <svg xmlns=\"http://www.w3.org/2000/svg\" height=\"24px\"viewBox=\"0 0 24 24\"\n",
              "       width=\"24px\">\n",
              "    <path d=\"M0 0h24v24H0V0z\" fill=\"none\"/>\n",
              "    <path d=\"M18.56 5.44l.94 2.06.94-2.06 2.06-.94-2.06-.94-.94-2.06-.94 2.06-2.06.94zm-11 1L8.5 8.5l.94-2.06 2.06-.94-2.06-.94L8.5 2.5l-.94 2.06-2.06.94zm10 10l.94 2.06.94-2.06 2.06-.94-2.06-.94-.94-2.06-.94 2.06-2.06.94z\"/><path d=\"M17.41 7.96l-1.37-1.37c-.4-.4-.92-.59-1.43-.59-.52 0-1.04.2-1.43.59L10.3 9.45l-7.72 7.72c-.78.78-.78 2.05 0 2.83L4 21.41c.39.39.9.59 1.41.59.51 0 1.02-.2 1.41-.59l7.78-7.78 2.81-2.81c.8-.78.8-2.07 0-2.86zM5.41 20L4 18.59l7.72-7.72 1.47 1.35L5.41 20z\"/>\n",
              "  </svg>\n",
              "      </button>\n",
              "      \n",
              "  <style>\n",
              "    .colab-df-container {\n",
              "      display:flex;\n",
              "      flex-wrap:wrap;\n",
              "      gap: 12px;\n",
              "    }\n",
              "\n",
              "    .colab-df-convert {\n",
              "      background-color: #E8F0FE;\n",
              "      border: none;\n",
              "      border-radius: 50%;\n",
              "      cursor: pointer;\n",
              "      display: none;\n",
              "      fill: #1967D2;\n",
              "      height: 32px;\n",
              "      padding: 0 0 0 0;\n",
              "      width: 32px;\n",
              "    }\n",
              "\n",
              "    .colab-df-convert:hover {\n",
              "      background-color: #E2EBFA;\n",
              "      box-shadow: 0px 1px 2px rgba(60, 64, 67, 0.3), 0px 1px 3px 1px rgba(60, 64, 67, 0.15);\n",
              "      fill: #174EA6;\n",
              "    }\n",
              "\n",
              "    [theme=dark] .colab-df-convert {\n",
              "      background-color: #3B4455;\n",
              "      fill: #D2E3FC;\n",
              "    }\n",
              "\n",
              "    [theme=dark] .colab-df-convert:hover {\n",
              "      background-color: #434B5C;\n",
              "      box-shadow: 0px 1px 3px 1px rgba(0, 0, 0, 0.15);\n",
              "      filter: drop-shadow(0px 1px 2px rgba(0, 0, 0, 0.3));\n",
              "      fill: #FFFFFF;\n",
              "    }\n",
              "  </style>\n",
              "\n",
              "      <script>\n",
              "        const buttonEl =\n",
              "          document.querySelector('#df-4aeacef1-471a-4e5d-9d8e-6fead57060aa button.colab-df-convert');\n",
              "        buttonEl.style.display =\n",
              "          google.colab.kernel.accessAllowed ? 'block' : 'none';\n",
              "\n",
              "        async function convertToInteractive(key) {\n",
              "          const element = document.querySelector('#df-4aeacef1-471a-4e5d-9d8e-6fead57060aa');\n",
              "          const dataTable =\n",
              "            await google.colab.kernel.invokeFunction('convertToInteractive',\n",
              "                                                     [key], {});\n",
              "          if (!dataTable) return;\n",
              "\n",
              "          const docLinkHtml = 'Like what you see? Visit the ' +\n",
              "            '<a target=\"_blank\" href=https://colab.research.google.com/notebooks/data_table.ipynb>data table notebook</a>'\n",
              "            + ' to learn more about interactive tables.';\n",
              "          element.innerHTML = '';\n",
              "          dataTable['output_type'] = 'display_data';\n",
              "          await google.colab.output.renderOutput(dataTable, element);\n",
              "          const docLink = document.createElement('div');\n",
              "          docLink.innerHTML = docLinkHtml;\n",
              "          element.appendChild(docLink);\n",
              "        }\n",
              "      </script>\n",
              "    </div>\n",
              "  </div>\n",
              "  "
            ]
          },
          "metadata": {}
        }
      ]
    },
    {
      "cell_type": "code",
      "source": [
        "# removendo o '-' e substituindo por 0 (zero)\n",
        "df['sizes'] = df['sizes'].replace({'-': 0})\n",
        "df['sizes'].unique()"
      ],
      "metadata": {
        "colab": {
          "base_uri": "https://localhost:8080/"
        },
        "id": "Y0R3wDKZbZVS",
        "outputId": "0bbe2b10-6267-4f5d-f351-65588ba6be96"
      },
      "execution_count": null,
      "outputs": [
        {
          "output_type": "execute_result",
          "data": {
            "text/plain": [
              "array(['6245', '3985', '4085', '0', '4179', '7074', '40310', '786',\n",
              "       '1204', '1713', '3977', '34029', '11473', '6723', '12054', '5866',\n",
              "       '61716', '101267', '363', '234', '669', '12040', '49152', '77163',\n",
              "       '1382', '9867', '25218', '1414', '4441', '42732', '110', '7634', 0,\n",
              "       '55666', '13372', '18149', '1224', '70712', '2261', '6168', '8677',\n",
              "       '11853', '16991', '3214', '4377', '52491', '5998', '6922', '11417',\n",
              "       '4151', '305722', '3635', '1932', '3293', '45798', '4538',\n",
              "       '130724', '47122', '31631', '689', '1387', '62761', '509', '527',\n",
              "       '2489', '2537', '1391', '11757', '5544', '2244', '96', '12283',\n",
              "       '9630', '657', '1038', '9379', '95', '4347', '20484', '647168',\n",
              "       '58026', '3092', '130811', '17459', '18114', '49087', '12859',\n",
              "       '5736', '5052', '73728', '110875', '1502', '4209', '7008', '61848',\n",
              "       '13116', '44467', '111', '29634', '141308', '3258', '235862',\n",
              "       '3047', '32187', '21408', '84907', '71024', '4325', '8083',\n",
              "       '17083', '68', '26990', '4045', '35709', '45518', '891', '957',\n",
              "       '8368', '374', '172498', '98', '1596', '3850', '602', '530',\n",
              "       '43974', '203429', '30995', '51398', '3752', '13469', '5026',\n",
              "       '1687', '65536', '27063', '263', '46888', '1457', '17314', '36902',\n",
              "       '28219', '3459', '651', '1871', '501126', '48725', '6588',\n",
              "       '162605', '86381', '127775', '1124', '19084', '1173', '131072',\n",
              "       '1117', '21277', '1708', '172537', '75100', '200053', '1424',\n",
              "       '75344', '56275', '1393', '84494', '100705', '6104', '16102',\n",
              "       '10495', '308', '53003', '3090', '74691', '1879', '3373', '16890',\n",
              "       '1289', '78295', '60280', '75142', '45966', '1583', '32303',\n",
              "       '3723', '31242', '945', '64910', '125771', '23052', '106496',\n",
              "       '73231', '58414', '3707', '25814', '2653', '57344', '1732',\n",
              "       '39654', '28426', '73132', '116798', '381', '1081049', '32252',\n",
              "       '9202', '78588', '372', '3274', '149444', '122880', '368', '2722',\n",
              "       '298302', '85', '22096', '316', '3680', '16184', '1404', '377',\n",
              "       '4717', '193700', '12686', '6023', '10371', '7025', '173919',\n",
              "       '712', '1639', '19547', '3442', '152676', '946425', '1221',\n",
              "       '103193', '1440', '3071', '29823', '1395', '3109', '23416', '1699',\n",
              "       '45970', '139264', '35624', '1429', '36098', '86984', '966',\n",
              "       '7083', '70412', '101647', '87766', '678', '8149', '48591',\n",
              "       '79791', '47296', '35540', '1157', '64939', '1431', '653', '10099',\n",
              "       '7124', '71311', '378', '2032', '80678', '3601', '14108', '144114',\n",
              "       '47592', '25439', '6685', '104916', '2938', '64427', '66202',\n",
              "       '71656', '81920', '258839', '106535', '48305', '1301', '326',\n",
              "       '796', '98304', '55569', '17688', '48682', '127045', '1851',\n",
              "       '66764', '5086', '218390', '21957', '372172', '515', '516688',\n",
              "       '39017', '70191', '1341', '3842', '16979', '72102', '70128',\n",
              "       '154223', '47699', '2178', '16966', '70165', '49449', '9732',\n",
              "       '25257', '96036', '2582', '14136', '13218', '71743', '99942',\n",
              "       '49425', '543', '4995', '1389', '2424', '421', '16187', '2355',\n",
              "       '32511', '76706', '257194', '1405', '10877', '375', '2700',\n",
              "       '72666', '948', '1585', '6923', '262144', '979', '24522', '73226',\n",
              "       '96255', '1121554', '97', '30232', '115599', '19320', '4464',\n",
              "       '240531', '153725', '3995', '16562', '132627', '198285', '52701',\n",
              "       '6943', '100851', '14298', '155648', '30067', '2522', '4452',\n",
              "       '614799', '8089', '3057', '1284', '32019', '59520', '1396',\n",
              "       '49223', '221184', '79088', '85750', '114688', '45632', '1283',\n",
              "       '622', '78382', '754', '49555', '26838', '726', '662', '3933',\n",
              "       '77', '125249', '17866', '801', '163840', '702', '429', '1009',\n",
              "       '1380', '50907', '140644', '87210', '1400', '55339', '3549',\n",
              "       '11326', '72', '52179', '1434', '593699', '1392', '3510', '11236',\n",
              "       '36095', '280014', '51951', '100', '237568', '61888', '37803',\n",
              "       '41397', '38730', '11175', '2000', '494', '479', '483', '21793',\n",
              "       '3440', '13539', '119594', '94578', '10966', '3650', '142215',\n",
              "       '38023', '2823', '13982', '7318', '1900', '47689', '22972',\n",
              "       '36712', '68396', '3626', '2210', '7890', '9925', '306', '54279',\n",
              "       '1055', '1165', '53744', '297851', '1506', '2286', '3530',\n",
              "       '190269', '971', '84638', '6861', '727', '1291', '15121', '1625',\n",
              "       '33199', '2485', '335872', '15815', '887988', '402466', '52938',\n",
              "       '161922', '180224', '55030', '835394', '56807', '20271', '2638',\n",
              "       '58537', '569688', '1325', '703', '56957', '13775', '47145',\n",
              "       '2657', '14977', '2343', '229376', '2909', '20903', '61672',\n",
              "       '1430', '109358', '67065', '2044', '70554', '31725', '2563',\n",
              "       '66420', '1731', '499712', '1190', '1747', '40960', '29255',\n",
              "       '65240', '74267', '20575', '25570', '181519', '25465', '15522',\n",
              "       '199746', '107469', '114', '79452', '28245', '6596', '90112',\n",
              "       '45832', '3239', '45409', '169883', '1725', '13586', '4127',\n",
              "       '11396', '51939', '5609', '12238', '6867', '11136', '47000',\n",
              "       '12070', '13393', '4583', '10923', '45476', '6369', '16148',\n",
              "       '5448', '11534', '28847', '27951', '4042', '61335', '10600',\n",
              "       '65315', '3612', '14915', '65451', '188416', '5322', '9490',\n",
              "       '69196', '5787', '13740', '5812', '23764', '6241', '12449', '4640',\n",
              "       '30037', '11763', '32818', '7116', '9581', '28360', '14176',\n",
              "       '57216', '136806', '67171', '4722', '172032', '215411', '65941',\n",
              "       '65734', '47245', '175621', '65123', '134392', '3938', '45308',\n",
              "       '1712', '7746', '9851', '117170', '47468', '543680', '24570',\n",
              "       '65710', '64692', '270336', '274059', '283389', '64448', '401408',\n",
              "       '65171', '44018', '79', '3389', '7230', '159813', '21464', '65119',\n",
              "       '2482', '11644', '64854', '3653', '64715', '173983', '1815',\n",
              "       '44939', '65523', '44847', '44843', '45029'], dtype=object)"
            ]
          },
          "metadata": {},
          "execution_count": 100
        }
      ]
    },
    {
      "cell_type": "code",
      "source": [
        "# garantindo que não há mais tamanhos com '-' (hifen)\n",
        "df.loc[df['sizes']=='-']"
      ],
      "metadata": {
        "colab": {
          "base_uri": "https://localhost:8080/",
          "height": 49
        },
        "id": "YqyAFL4Xcrz5",
        "outputId": "4913b163-a06d-444d-91f6-a6f4aae8b368"
      },
      "execution_count": null,
      "outputs": [
        {
          "output_type": "execute_result",
          "data": {
            "text/plain": [
              "Empty DataFrame\n",
              "Columns: [hosts, http, dias, urls, codes, sizes]\n",
              "Index: []"
            ],
            "text/html": [
              "\n",
              "  <div id=\"df-4b03735b-c1c2-41ef-849a-5cef45a44ef6\">\n",
              "    <div class=\"colab-df-container\">\n",
              "      <div>\n",
              "<style scoped>\n",
              "    .dataframe tbody tr th:only-of-type {\n",
              "        vertical-align: middle;\n",
              "    }\n",
              "\n",
              "    .dataframe tbody tr th {\n",
              "        vertical-align: top;\n",
              "    }\n",
              "\n",
              "    .dataframe thead th {\n",
              "        text-align: right;\n",
              "    }\n",
              "</style>\n",
              "<table border=\"1\" class=\"dataframe\">\n",
              "  <thead>\n",
              "    <tr style=\"text-align: right;\">\n",
              "      <th></th>\n",
              "      <th>hosts</th>\n",
              "      <th>http</th>\n",
              "      <th>dias</th>\n",
              "      <th>urls</th>\n",
              "      <th>codes</th>\n",
              "      <th>sizes</th>\n",
              "    </tr>\n",
              "  </thead>\n",
              "  <tbody>\n",
              "  </tbody>\n",
              "</table>\n",
              "</div>\n",
              "      <button class=\"colab-df-convert\" onclick=\"convertToInteractive('df-4b03735b-c1c2-41ef-849a-5cef45a44ef6')\"\n",
              "              title=\"Convert this dataframe to an interactive table.\"\n",
              "              style=\"display:none;\">\n",
              "        \n",
              "  <svg xmlns=\"http://www.w3.org/2000/svg\" height=\"24px\"viewBox=\"0 0 24 24\"\n",
              "       width=\"24px\">\n",
              "    <path d=\"M0 0h24v24H0V0z\" fill=\"none\"/>\n",
              "    <path d=\"M18.56 5.44l.94 2.06.94-2.06 2.06-.94-2.06-.94-.94-2.06-.94 2.06-2.06.94zm-11 1L8.5 8.5l.94-2.06 2.06-.94-2.06-.94L8.5 2.5l-.94 2.06-2.06.94zm10 10l.94 2.06.94-2.06 2.06-.94-2.06-.94-.94-2.06-.94 2.06-2.06.94z\"/><path d=\"M17.41 7.96l-1.37-1.37c-.4-.4-.92-.59-1.43-.59-.52 0-1.04.2-1.43.59L10.3 9.45l-7.72 7.72c-.78.78-.78 2.05 0 2.83L4 21.41c.39.39.9.59 1.41.59.51 0 1.02-.2 1.41-.59l7.78-7.78 2.81-2.81c.8-.78.8-2.07 0-2.86zM5.41 20L4 18.59l7.72-7.72 1.47 1.35L5.41 20z\"/>\n",
              "  </svg>\n",
              "      </button>\n",
              "      \n",
              "  <style>\n",
              "    .colab-df-container {\n",
              "      display:flex;\n",
              "      flex-wrap:wrap;\n",
              "      gap: 12px;\n",
              "    }\n",
              "\n",
              "    .colab-df-convert {\n",
              "      background-color: #E8F0FE;\n",
              "      border: none;\n",
              "      border-radius: 50%;\n",
              "      cursor: pointer;\n",
              "      display: none;\n",
              "      fill: #1967D2;\n",
              "      height: 32px;\n",
              "      padding: 0 0 0 0;\n",
              "      width: 32px;\n",
              "    }\n",
              "\n",
              "    .colab-df-convert:hover {\n",
              "      background-color: #E2EBFA;\n",
              "      box-shadow: 0px 1px 2px rgba(60, 64, 67, 0.3), 0px 1px 3px 1px rgba(60, 64, 67, 0.15);\n",
              "      fill: #174EA6;\n",
              "    }\n",
              "\n",
              "    [theme=dark] .colab-df-convert {\n",
              "      background-color: #3B4455;\n",
              "      fill: #D2E3FC;\n",
              "    }\n",
              "\n",
              "    [theme=dark] .colab-df-convert:hover {\n",
              "      background-color: #434B5C;\n",
              "      box-shadow: 0px 1px 3px 1px rgba(0, 0, 0, 0.15);\n",
              "      filter: drop-shadow(0px 1px 2px rgba(0, 0, 0, 0.3));\n",
              "      fill: #FFFFFF;\n",
              "    }\n",
              "  </style>\n",
              "\n",
              "      <script>\n",
              "        const buttonEl =\n",
              "          document.querySelector('#df-4b03735b-c1c2-41ef-849a-5cef45a44ef6 button.colab-df-convert');\n",
              "        buttonEl.style.display =\n",
              "          google.colab.kernel.accessAllowed ? 'block' : 'none';\n",
              "\n",
              "        async function convertToInteractive(key) {\n",
              "          const element = document.querySelector('#df-4b03735b-c1c2-41ef-849a-5cef45a44ef6');\n",
              "          const dataTable =\n",
              "            await google.colab.kernel.invokeFunction('convertToInteractive',\n",
              "                                                     [key], {});\n",
              "          if (!dataTable) return;\n",
              "\n",
              "          const docLinkHtml = 'Like what you see? Visit the ' +\n",
              "            '<a target=\"_blank\" href=https://colab.research.google.com/notebooks/data_table.ipynb>data table notebook</a>'\n",
              "            + ' to learn more about interactive tables.';\n",
              "          element.innerHTML = '';\n",
              "          dataTable['output_type'] = 'display_data';\n",
              "          await google.colab.output.renderOutput(dataTable, element);\n",
              "          const docLink = document.createElement('div');\n",
              "          docLink.innerHTML = docLinkHtml;\n",
              "          element.appendChild(docLink);\n",
              "        }\n",
              "      </script>\n",
              "    </div>\n",
              "  </div>\n",
              "  "
            ]
          },
          "metadata": {},
          "execution_count": 101
        }
      ]
    },
    {
      "cell_type": "code",
      "source": [
        "dados = df['http'].nunique()\n",
        "dados"
      ],
      "metadata": {
        "colab": {
          "base_uri": "https://localhost:8080/"
        },
        "id": "7asGGAwYfkuh",
        "outputId": "d25a17a9-8f42-4701-aa5d-a9e1d058da0a"
      },
      "execution_count": null,
      "outputs": [
        {
          "output_type": "execute_result",
          "data": {
            "text/plain": [
              "4"
            ]
          },
          "metadata": {},
          "execution_count": 102
        }
      ]
    },
    {
      "cell_type": "code",
      "source": [
        "dados = pd.unique(df['hosts'])"
      ],
      "metadata": {
        "id": "XU-QORlyd_Nu"
      },
      "execution_count": null,
      "outputs": []
    },
    {
      "cell_type": "code",
      "source": [
        "#O total de erros 404\n",
        "#As 5 URLs que mais causaram erro 404.\n",
        "#Quantidade de erros 404 por dia.\n",
        "#O total de bytes retornados.\n",
        "cont_unico_error404 = 0\n",
        "for http in df['codes']:\n",
        "  if http == '404':\n",
        "      cont_unico_error404 +=1\n",
        "\n",
        "print(f'O valor total de erros no mes de julho é de {cont_unico_error404} erros')"
      ],
      "metadata": {
        "colab": {
          "base_uri": "https://localhost:8080/"
        },
        "id": "radLTsFjfUct",
        "outputId": "a1982188-9935-4c0a-fd5d-6de7a27ad6a8"
      },
      "execution_count": null,
      "outputs": [
        {
          "output_type": "stream",
          "name": "stdout",
          "text": [
            "O valor total de erros no mes de julho é de 27 erros\n"
          ]
        }
      ]
    },
    {
      "cell_type": "code",
      "source": [
        "df.loc[df['codes']=='404',['urls','codes']].groupby(['urls'])"
      ],
      "metadata": {
        "colab": {
          "base_uri": "https://localhost:8080/"
        },
        "id": "urMWe2bOyoGC",
        "outputId": "e8adc7fe-0da4-490e-e1ae-f7ae12a645d6"
      },
      "execution_count": null,
      "outputs": [
        {
          "output_type": "execute_result",
          "data": {
            "text/plain": [
              "<pandas.core.groupby.generic.DataFrameGroupBy object at 0x7fd0cf663f70>"
            ]
          },
          "metadata": {},
          "execution_count": 105
        }
      ]
    },
    {
      "cell_type": "code",
      "source": [
        "! git clone https://github.com/leonardoamorim/flightdelays"
      ],
      "metadata": {
        "colab": {
          "base_uri": "https://localhost:8080/"
        },
        "id": "Aj59Fvg_4bf8",
        "outputId": "3ec8f084-3ae2-406a-e597-212f05ccd4db"
      },
      "execution_count": null,
      "outputs": [
        {
          "output_type": "stream",
          "name": "stdout",
          "text": [
            "Cloning into 'flightdelays'...\n",
            "remote: Enumerating objects: 5, done.\u001b[K\n",
            "remote: Counting objects: 100% (5/5), done.\u001b[K\n",
            "remote: Compressing objects: 100% (5/5), done.\u001b[K\n",
            "remote: Total 5 (delta 0), reused 0 (delta 0), pack-reused 0\u001b[K\n",
            "Unpacking objects: 100% (5/5), done.\n"
          ]
        }
      ]
    },
    {
      "cell_type": "markdown",
      "source": [],
      "metadata": {
        "id": "aoVneKUwyn0B"
      }
    },
    {
      "cell_type": "code",
      "source": [
        "! ls flightdelays"
      ],
      "metadata": {
        "colab": {
          "base_uri": "https://localhost:8080/"
        },
        "id": "f4PSUtkF4dME",
        "outputId": "ec7bc5bc-4983-4559-b3de-e2fd5b85b196"
      },
      "execution_count": null,
      "outputs": [
        {
          "output_type": "stream",
          "name": "stdout",
          "text": [
            "flight_delays1.csv  flight_delays2.csv\tflight_delays3.csv\n"
          ]
        }
      ]
    },
    {
      "cell_type": "code",
      "source": [
        "! head flight_delays1.csv"
      ],
      "metadata": {
        "colab": {
          "base_uri": "https://localhost:8080/"
        },
        "id": "shINJTK85hvH",
        "outputId": "bb7873b4-2270-40f1-b012-8ea511b5e4eb"
      },
      "execution_count": null,
      "outputs": [
        {
          "output_type": "stream",
          "name": "stdout",
          "text": [
            "head: cannot open 'flight_delays1.csv' for reading: No such file or directory\n"
          ]
        }
      ]
    },
    {
      "cell_type": "markdown",
      "source": [
        "# Nova seção"
      ],
      "metadata": {
        "id": "x-nD418Z41Ec"
      }
    },
    {
      "cell_type": "code",
      "source": [
        "df = open('flightdelays/flight_delays1.csv')\n"
      ],
      "metadata": {
        "colab": {
          "base_uri": "https://localhost:8080/"
        },
        "id": "KHBuKzCd4hbY",
        "outputId": "b2902144-3c84-49b4-86a8-cd889d94673d"
      },
      "execution_count": null,
      "outputs": [
        {
          "output_type": "stream",
          "name": "stdout",
          "text": [
            "head: cannot open 'flight_delays1.csv' for reading: No such file or directory\n"
          ]
        }
      ]
    }
  ]
}